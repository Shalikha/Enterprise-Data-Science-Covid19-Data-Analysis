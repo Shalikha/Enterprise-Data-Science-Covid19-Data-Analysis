{
 "cells": [
  {
   "cell_type": "markdown",
   "metadata": {},
   "source": [
    "# 3D Computer Vision (2022/23)\n",
    "\n",
    "## Exercise 1\n",
    "\n",
    "Submitted by Group xx: \n",
    "- Name1\n",
    "- Name2\n",
    "- Name3\n",
    "- Name4\n",
    "\n",
    "Upload: 02.11.2022 (08:15)\n",
    "\n",
    "**Deadline**: 13.11.2022 (23:59)\n",
    "\n",
    "Please hand in a copy of the solved notebook and an html-export of it."
   ]
  },
  {
   "cell_type": "markdown",
   "metadata": {},
   "source": [
    "## Theory"
   ]
  },
  {
   "cell_type": "markdown",
   "metadata": {},
   "source": [
    "### 1. Properties of Rotation Matrices\n",
    "\n",
    "Rotation matrices are orthogonal matrices with determinant 1. Therefore, the following properties hold true for any rotation matrix $\\textbf{R}$:\n",
    "$\\begin{align}\n",
    "    \\textbf{R}^{-1} = \\textbf{R}^\\mathsf{T}\\qquad\\text{and}\\qquad \\text{det}(\\textbf{R})= 1\\label{properties}\n",
    "\\end{align}$"
   ]
  },
  {
   "cell_type": "markdown",
   "metadata": {},
   "source": [
    "**(a)** Show, that the rows and columns of $\\textbf{R}$ are orthonomal (orthogonal and of length 1)."
   ]
  },
  {
   "cell_type": "markdown",
   "metadata": {},
   "source": [
    "#### Your answer goes here"
   ]
  },
  {
   "cell_type": "markdown",
   "metadata": {},
   "source": [
    "**(b)** Any rotation matrix $\\textbf{R}$ can be represented by a sequence of Euler angles, which are rotations around the coordinate axes.\n",
    "\tShow that the matrices $\\textbf{R}_z(\\psi)$, $\\textbf{R}_y(\\theta)$ and $\\textbf{R}_x(\\phi)$, as defined in the lecture, fulfill the properties of rotation matrices for any angles $\\phi$, $\\theta$ and $\\psi$.\n",
    "\tProve that the above properties also hold true for $\\textbf{R} = \\textbf{R}_z(\\psi)\\textbf{R}_y(\\theta)\\textbf{R}_x(\\phi)$ as the consecutive execution of these matrices."
   ]
  },
  {
   "cell_type": "markdown",
   "metadata": {},
   "source": [
    "#### Your answer goes here"
   ]
  },
  {
   "cell_type": "markdown",
   "metadata": {},
   "source": [
    "**(c)** What is the geometric interpretation of the determinant of a square $3\\times3$ matrix? Why does a rotation matrix have to have determinant 1?\n",
    "\n",
    "Hint: Compare the determinants of base transformations (e.g. a rotation, translation,...)."
   ]
  },
  {
   "cell_type": "markdown",
   "metadata": {},
   "source": [
    "#### Your answer goes here"
   ]
  },
  {
   "cell_type": "markdown",
   "metadata": {},
   "source": [
    "### 2. Transformation Chain\n",
    "Describe the transformation chain for mapping a point from the world coordinate system to the pixel coordinate system of an intrinsically and extrinsically calibrated camera. Why are homogeneous \n",
    "coordinates used for transforming points between coordinate systems? Use formulas and explain the intermediate steps in words."
   ]
  },
  {
   "cell_type": "markdown",
   "metadata": {},
   "source": [
    "#### Your answer goes here"
   ]
  },
  {
   "cell_type": "markdown",
   "metadata": {},
   "source": [
    "## Implementation"
   ]
  },
  {
   "cell_type": "markdown",
   "metadata": {},
   "source": [
    "The **./data/** directory contains images of a chessboard that were used for calibrating a camera with high radial distortion. The results of the calibration (intrinsics of the camera and extrinsics for \n",
    "each board) are stored in **./data/calib.mat**."
   ]
  },
  {
   "cell_type": "code",
   "execution_count": null,
   "metadata": {},
   "outputs": [],
   "source": [
    "'''You can add all your imports here'''\n",
    "import os\n",
    "\n",
    "import numpy as np\n",
    "import cv2 as cv\n",
    "import scipy.io as io\n",
    "from PIL import Image"
   ]
  },
  {
   "cell_type": "markdown",
   "metadata": {},
   "source": [
    "**(a)** Write a function **project_points** for projecting all 3D-points defined by a chessboard (in the world coordinate system) to the 2D pixel coordinate system. It should optionally \n",
    "regard the radial distortion (k1, k2, k5). The function takes as input a vector of 3D world points, the camera's intrinsic and extrinsic parameters and a flag for considering the distortion. It \n",
    "returns the projected 2D-points."
   ]
  },
  {
   "cell_type": "code",
   "execution_count": null,
   "metadata": {},
   "outputs": [],
   "source": [
    "def project_points(x_3d_w, k_matrix, rot_mats, t_vecs, dist_flag=False, dist_params=None):\n",
    "    \n",
    "    # Your Implementation goes here\n",
    "    raise NotImplementedError"
   ]
  },
  {
   "cell_type": "markdown",
   "metadata": {},
   "source": [
    "(b) Write a function **project_and_draw** that takes an image and projects and draws all chessboard points onto that image using **project_points**. **Apply this to all \n",
    "images** after compensating for radial distortion (if dist_flag is set)."
   ]
  },
  {
   "cell_type": "code",
   "execution_count": null,
   "metadata": {},
   "outputs": [],
   "source": [
    "def project_and_draw(imgs, x_3d_w, k_matrix, rot_mats, t_vecs, dist_flag, dist_params):\n",
    "    \n",
    "    # Your Implementation goes here\n",
    "    raise NotImplementedError"
   ]
  },
  {
   "cell_type": "markdown",
   "metadata": {},
   "source": [
    "(c) Show the first image with the following information:\n",
    "\t- projected points without correction of the distortion in red\n",
    "\t- projected points with correction of the radial distortion (k1, k2 and k5) in green"
   ]
  },
  {
   "cell_type": "code",
   "execution_count": null,
   "metadata": {},
   "outputs": [],
   "source": [
    "os.makedirs(name=f'results/', exist_ok=True)\n",
    "\n",
    "base_folder = './data/'\n",
    "\n",
    "# Consider distortion\n",
    "dist_flag = True\n",
    "\n",
    "# Load the data\n",
    "# There are 25 views/or images/ and 40 3D points per view\n",
    "data = io.loadmat('./data/calib.mat')\n",
    "\n",
    "# 3D points in the world coordinate system\n",
    "x_3d_w = data['x_3d_w'] # shape=[25, 40, 3]\n",
    "\n",
    "# Translation vector: as the world origin is seen from the camera coordinates\n",
    "t_vecs = data['translation_vecs'] # shape=[25, 3, 1]\n",
    "\n",
    "# Rotation matrices: converts coordinates from world to camera\n",
    "rot_mats = data['rot_mats'] # shape=[25, 3, 3]\n",
    "\n",
    "# five distortion parameters\n",
    "dist_params = data['distortion_params'] # shape=[5, 1]\n",
    "\n",
    "# K matrix of the cameras\n",
    "k_matrix = data['k_mat'] # shape=[3, 3]\n",
    "\n",
    "imgs_list = [cv.imread(base_folder+str(i).zfill(5)+'.jpg') for i in range(t_vecs.shape[0])]\n",
    "imgs = np.asarray(imgs_list)\n",
    "\n",
    "project_and_draw(imgs, x_3d_w, k_matrix, rot_mats, t_vecs, dist_flag, dist_params)\n",
    "\n",
    "without_dist_correction = Image.open('results/no_correction_0.png')\n",
    "display(without_dist_correction)\n",
    "\n",
    "with_dist_correction = Image.open('results/with_correction_0.png')\n",
    "display(with_dist_correction)"
   ]
  }
 ],
 "metadata": {
  "kernelspec": {
   "display_name": "Python 3",
   "language": "python",
   "name": "python3"
  },
  "language_info": {
   "codemirror_mode": {
    "name": "ipython",
    "version": 3
   },
   "file_extension": ".py",
   "mimetype": "text/x-python",
   "name": "python",
   "nbconvert_exporter": "python",
   "pygments_lexer": "ipython3",
   "version": "3.6.9"
  }
 },
 "nbformat": 4,
 "nbformat_minor": 2
}
